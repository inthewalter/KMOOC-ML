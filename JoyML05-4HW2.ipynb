{
 "cells": [
  {
   "cell_type": "markdown",
   "metadata": {},
   "source": [
    "# JoyHW 2\n",
    "(3 점)\n",
    "퍼셉트론 알고리즘을 따라 손으로 모든 계산을 하면서 가중치를 구한 적이 있습니다. 그리고 이러한 프로세스를 코딩화하는 작업을 하였습니다. 또한 이러한 코드를 함수로 만든 것이 perceptron_train() 함수입니다.\n",
    "\n",
    "퍼셉트론 알고리즘의 학습 결과로 얻은 가중치로 모델을 만들고 새로운 자료에 대하여 출력을 예측하기 위해 만든 함수가 perceptron_predict()입니다.\n",
    "\n",
    "또한 이번 강의에서는 전체적인 기계학습의 작업 흐름을 공부했습니다. 기계학습의 자료를 파일로부터 읽어오고, 또한 자료를 학습(훈련)자료와 평가자료로 나누는 자료 준비 단계부터 시작하여, 모델을 학습하고 검증하고 평가하는 단계까지 기계학습의 전체 작업 흐름에 대한 것을 다루었습니다.\n",
    "\n",
    "간략하게나마 우리는 전반적인 기계학습의 작업 흐름을 알게 되었으므로, 이번 과제에서는 이러한 기계학습의 흐름으로 코딩으로 구현하고자 합니다. 다음과 같이 이진분류 퍼셉트론 코딩을 한 후, 질문에 답하십시오.\n",
    "\n",
    "1. 입력 자료 joydata.txt를 읽어온다.\n",
    "\n",
    "2. 데이터를 셔플링한 후, train과 test를 7:3의 비율로 나눈다.\n",
    "\n",
    "3. 특성 벡터 train와 test 자료 배열에 x0 = 1을 추가한다.\n",
    "\n",
    "4. 학습을 진행하여 가중치 w를 구한다.\n",
    "\n",
    "5. Train과 test 자료에 대하여 각각 예측과 평가를 진행한다.\n",
    "\n",
    "아래 보기에 주어진 것처럼 하이퍼파라미터로 모델을 학습한 후에 test자료에 대해 평가하면 오류없이 모두 잘 분류합니다. 그러나, train 자료 자체로 평가를 진행할 때 오류가 발생합니다. 다음 하이퍼파라미터 가운데 가장 많은 오류를 많이 발생하는 경우는? (코딩으로 시도해보길 바랍니다)\n",
    "\n",
    "\n",
    "1. epochs = 2, eta = 0.02, random_seed = 5  \n",
    "2. epochs = 2, eta = 0.03, random_seed = 8  \n",
    "3. epochs = 2, eta = 0.04, random_seed = 10  \n",
    "4. epochs = 2, eta = 0.05. random_seed = 10"
   ]
  },
  {
   "cell_type": "markdown",
   "metadata": {},
   "source": [
    "## 1. 입력 자료 joydata.txt를 읽어온다.\n",
    "\n",
    "## 2. 데이터를 셔플링한 후, train과 test를 7:3의 비율로 나눈다."
   ]
  },
  {
   "cell_type": "code",
   "execution_count": 5,
   "metadata": {},
   "outputs": [],
   "source": [
    "import numpy as np\n",
    "\n",
    "data = np.genfromtxt('data/joydata.txt')\n",
    "\n",
    "np.random.seed(1)\n",
    "np.random.shuffle(data)\n",
    "x, y = data[:, :2], data[:, 2]\n",
    "y = y.astype(np.int)\n",
    "\n",
    "num = int(x.shape[0] * 0.7) ##percentage\n",
    "x_train, x_test = x[:num], x[num:]\n",
    "y_train, y_test = y[:num], y[num:]"
   ]
  },
  {
   "cell_type": "markdown",
   "metadata": {},
   "source": [
    "## 3. 특성 벡터 train와 test 자료 배열에 x0 = 1을 추가한다."
   ]
  },
  {
   "cell_type": "code",
   "execution_count": 7,
   "metadata": {},
   "outputs": [
    {
     "name": "stdout",
     "output_type": "stream",
     "text": [
      "[[ 1.   -2.64 -2.2 ]\n",
      " [ 1.   -2.97 -1.53]\n",
      " [ 1.    1.    0.46]\n",
      " [ 1.   -2.84 -3.22]\n",
      " [ 1.   -0.05 -1.95]]\n"
     ]
    }
   ],
   "source": [
    "\n",
    "X_train = np.c_[ np.ones(len(x_train)), x_train ]\n",
    "X_test  = np.c_[ np.ones(len(x_test)), x_test ]\n",
    "print(X_train[:5])"
   ]
  },
  {
   "cell_type": "code",
   "execution_count": 36,
   "metadata": {},
   "outputs": [],
   "source": [
    "def perceptron_train(X, y, X0=False, eta=0.1, epochs=1, random_seed=1):\n",
    "    \"\"\"  Perceptron training function for binary class labels\n",
    "    Input Parameters\n",
    "        X : numpy.ndarray, shape=(n_samples, m_features), by default X0=False\n",
    "            A 2D NumPy array containing the training examples\n",
    "            or \n",
    "            If X0=True, X's shape=(n_samples, m_features+1) \n",
    "            It includes the bias or x0 = 1 for all samples \n",
    "        \n",
    "        y : numpy.ndarray, shape=(n_samples,)\n",
    "            A 1D NumPy array containing the true class labels\n",
    "        \n",
    "        X0: If True, then X must have X_0 = 1 in all samples.\n",
    "             Set it Faslse, if X does not have X_0 \n",
    "        \n",
    "        eta : float (default: 0.1) \n",
    "            A learning rate for the parameter updates. Note that a learning\n",
    "            rate has no effect on the direction of the decision boundary\n",
    "            if the model weights are initialized to all zeros.\n",
    "        \n",
    "        epochs : int (default: 1), Number of passes over the training dataset.\n",
    "        \n",
    "        random_seed : int or None (default: 1)\n",
    "            Seed for the pseudo-random number generator that initializes the\n",
    "            weights w if w is None.\n",
    "    \n",
    "    Returns \n",
    "        w : numpy.ndarray, shape=(m_features, )\n",
    "    \n",
    "        If you wants W : numpy.ndarray, shape=(epochs, m_features) to use \n",
    "        when calling , then invoke this function with epochs = 1 multiple times \n",
    "        and save the result in the form of W = np.vstack([W, w]). \n",
    "        You may initialize the W = np.array([w]), where w is an initial weights.\n",
    "    \"\"\"\n",
    "    if X0 == False:\n",
    "        X = np.c_[ np.ones(len(X)), X ]\n",
    "    \n",
    "    randnum = np.random.RandomState(random_seed) \n",
    "    w = randnum.normal(loc=0.0, scale=0.01, size=X.shape[1])\n",
    "           \n",
    "    maxlabel, minlabel = y.max(), y.min()                 # for use of bipolar or unit step function\n",
    "    for _ in range(epochs):\n",
    "        for xi, yi in zip(X, y):\n",
    "            z = np.dot(xi, w)                             # Compute net input, same as np.dot(w.T, x)\n",
    "            yhat = np.where(z > 0.0, maxlabel, minlabel)  # Apply unit step func and get output\n",
    "            #print('xi{}, \\t (yi,yhat)=({},{})'.format(np.round(xi,2), yi, yhat))\n",
    "            if yi != yhat:\n",
    "                delta = eta * (yi - yhat) * xi                # Compute delta    \n",
    "                w += delta                                    # Adjust weight\n",
    "                #print('xi{}, \\t (yi,yhat)=({},{}), delta{}, w{}'.format\n",
    "                #         (np.round(xi,2), yi, yhat, np.round(delta,2), np.round(w,2)))\n",
    "        \n",
    "    return w"
   ]
  },
  {
   "cell_type": "code",
   "execution_count": 58,
   "metadata": {},
   "outputs": [
    {
     "name": "stdout",
     "output_type": "stream",
     "text": [
      "[[ 1.   -2.64 -2.2 ]\n",
      " [ 1.   -2.97 -1.53]\n",
      " [ 1.    1.    0.46]\n",
      " [ 1.   -2.84 -3.22]\n",
      " [ 1.   -0.05 -1.95]]\n",
      "[0 0 1 0 0]\n",
      "w =  [-0.01558773  0.0174913   0.00890771]\n"
     ]
    }
   ],
   "source": [
    "print(X_train[:5])\n",
    "print(y_train[:5])\n",
    "w = perceptron_train(X_train, y_train, X0=True, eta=0.02, epochs=2, random_seed=5)\n",
    "print('w = ', w)"
   ]
  },
  {
   "cell_type": "code",
   "execution_count": 59,
   "metadata": {},
   "outputs": [],
   "source": [
    "def perceptron_predict(X, w):\n",
    "    z = np.dot(X, w)\n",
    "    yhat = np.where(z > 0., 1, 0)\n",
    "    return yhat"
   ]
  },
  {
   "cell_type": "code",
   "execution_count": 60,
   "metadata": {},
   "outputs": [
    {
     "name": "stdout",
     "output_type": "stream",
     "text": [
      "w =  [-0.01558773  0.0174913   0.00890771]\n",
      "Misclassified:1/70\n"
     ]
    }
   ],
   "source": [
    "#version 0.1\n",
    "print('w = ', w)\n",
    "yhat = perceptron_predict(X_train, w) \n",
    "missed = 0 # misclassified count\n",
    "m_samples = len(y_train)\n",
    "for m in range(m_samples):\n",
    "    if yhat[m] != y_train[m]:\n",
    "        missed += 1\n",
    "print('Misclassified:{}/{}'.format(missed, m_samples))"
   ]
  },
  {
   "cell_type": "code",
   "execution_count": 61,
   "metadata": {},
   "outputs": [
    {
     "name": "stdout",
     "output_type": "stream",
     "text": [
      "Misclassified:0/30\n"
     ]
    }
   ],
   "source": [
    "#version 0.1\n",
    "yhat = perceptron_predict(X_test, w) \n",
    "missed = 0 # misclassified count\n",
    "m_samples = len(y_test)\n",
    "for m in range(m_samples):\n",
    "    if yhat[m] != y_test[m]:\n",
    "        missed += 1\n",
    "print('Misclassified:{}/{}'.format(missed, m_samples))"
   ]
  },
  {
   "cell_type": "markdown",
   "metadata": {},
   "source": [
    "1. epochs = 2, eta = 0.02, random_seed = 5  => 1/70, 0/30\n",
    "2. epochs = 2, eta = 0.03, random_seed = 8  => 1/70, 0/30\n",
    "3. epochs = 2, eta = 0.04, random_seed = 10  => 1/70, 0/30\n",
    "4. epochs = 2, eta = 0.05. random_seed = 10 => 2/70, 0/30"
   ]
  },
  {
   "cell_type": "code",
   "execution_count": 62,
   "metadata": {},
   "outputs": [
    {
     "data": {
      "image/png": "[encoded data removed]",
      "text/plain": [
       "<Figure size 432x288 with 1 Axes>"
      ]
     },
     "metadata": {},
     "output_type": "display_data"
    }
   ],
   "source": [
    "%run code/plot_xyw.py\n",
    "plot_xyw(X_train, y_train, w.flatten(), X0=True)"
   ]
  },
  {
   "cell_type": "code",
   "execution_count": 63,
   "metadata": {},
   "outputs": [
    {
     "data": {
      "image/png": "[encoded data removed]",
      "text/plain": [
       "<Figure size 432x288 with 1 Axes>"
      ]
     },
     "metadata": {},
     "output_type": "display_data"
    }
   ],
   "source": [
    "plot_xyw(X_test, y_test, w.flatten(), X0=True)"
   ]
  },
  {
   "cell_type": "code",
   "execution_count": null,
   "metadata": {},
   "outputs": [],
   "source": []
  }
 ],
 "metadata": {
  "kernelspec": {
   "display_name": "Python 3",
   "language": "python",
   "name": "python3"
  },
  "language_info": {
   "codemirror_mode": {
    "name": "ipython",
    "version": 3
   },
   "file_extension": ".py",
   "mimetype": "text/x-python",
   "name": "python",
   "nbconvert_exporter": "python",
   "pygments_lexer": "ipython3",
   "version": "3.6.5"
  }
 },
 "nbformat": 4,
 "nbformat_minor": 2
}
