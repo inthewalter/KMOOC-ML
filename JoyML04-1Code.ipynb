{
 "cells": [
  {
   "cell_type": "markdown",
   "metadata": {},
   "source": [
    "## 2. 퍼셉트론 구조: 순입력 계산과정"
   ]
  },
  {
   "cell_type": "markdown",
   "metadata": {},
   "source": [
    "### 예제풀이 (1)"
   ]
  },
  {
   "cell_type": "code",
   "execution_count": 1,
   "metadata": {},
   "outputs": [
    {
     "name": "stdout",
     "output_type": "stream",
     "text": [
      "1.4\n"
     ]
    }
   ],
   "source": [
    "import numpy as np\n",
    "\n",
    "x = np.array([0, 1, 2, 3])\n",
    "w = np.array([0, 0.1, 0.2, 0.3])\n",
    "z = np.dot(x, w)\n",
    "\n",
    "print(z)"
   ]
  },
  {
   "cell_type": "markdown",
   "metadata": {},
   "source": [
    "### 예제풀이 (2)"
   ]
  },
  {
   "cell_type": "code",
   "execution_count": 20,
   "metadata": {},
   "outputs": [
    {
     "name": "stdout",
     "output_type": "stream",
     "text": [
      "2.364974337607965\n"
     ]
    }
   ],
   "source": [
    "x = np.array(np.arange(4))\n",
    "w = np.array(np.random.random(4))\n",
    "z = np.dot(w, x)\n",
    "\n",
    "print(z)"
   ]
  },
  {
   "cell_type": "markdown",
   "metadata": {},
   "source": [
    "### 예제풀이 (3)"
   ]
  },
  {
   "cell_type": "code",
   "execution_count": 28,
   "metadata": {},
   "outputs": [
    {
     "name": "stdout",
     "output_type": "stream",
     "text": [
      "2.2806157389193733\n"
     ]
    }
   ],
   "source": [
    "x = np.array(np.arange(4))\n",
    "w = np.array(np.random.random(4))\n",
    "z = np.dot(w.T, x)\n",
    "\n",
    "print(z)"
   ]
  },
  {
   "cell_type": "markdown",
   "metadata": {},
   "source": [
    "### 예제풀이(2A)"
   ]
  },
  {
   "cell_type": "code",
   "execution_count": 36,
   "metadata": {},
   "outputs": [
    {
     "name": "stdout",
     "output_type": "stream",
     "text": [
      "3.5553656675063983\n"
     ]
    }
   ],
   "source": [
    "np.random.seed(0)\n",
    "\n",
    "x = np.array(np.arange(4))\n",
    "w = np.array(np.random.random(4))\n",
    "z = np.dot(w, x)\n",
    "\n",
    "print(z)"
   ]
  },
  {
   "cell_type": "markdown",
   "metadata": {},
   "source": [
    "### 예제풀이(3A)"
   ]
  },
  {
   "cell_type": "code",
   "execution_count": 44,
   "metadata": {},
   "outputs": [
    {
     "name": "stdout",
     "output_type": "stream",
     "text": [
      "3.5553656675063983\n"
     ]
    }
   ],
   "source": [
    "np.random.seed(0)\n",
    "\n",
    "x = np.array(np.arange(4))\n",
    "w = np.array(np.random.random(4))\n",
    "z = np.dot(w.T, x)\n",
    "\n",
    "print(z)"
   ]
  },
  {
   "cell_type": "markdown",
   "metadata": {},
   "source": [
    "## 2차원 배열 - reshape 메소드"
   ]
  },
  {
   "cell_type": "code",
   "execution_count": 52,
   "metadata": {},
   "outputs": [
    {
     "name": "stdout",
     "output_type": "stream",
     "text": [
      "x.shape=(4,), w.shape=(4,), w.T.shape=(4,)\n"
     ]
    }
   ],
   "source": [
    "print('x.shape={}, w.shape={}, w.T.shape={}'.format(x.shape, w.shape, w.T.shape))"
   ]
  },
  {
   "cell_type": "code",
   "execution_count": 55,
   "metadata": {},
   "outputs": [
    {
     "name": "stdout",
     "output_type": "stream",
     "text": [
      "[[3.55536567]]\n"
     ]
    }
   ],
   "source": [
    "np.random.seed(0)\n",
    "\n",
    "x = np.array(np.arange(4)).reshape(4, 1)\n",
    "w = np.array(np.random.random(4)).reshape(4, 1)\n",
    "z = np.dot(w.T, x) #.random((4, 1))도 가능!\n",
    "\n",
    "print(z)"
   ]
  },
  {
   "cell_type": "code",
   "execution_count": 63,
   "metadata": {},
   "outputs": [
    {
     "name": "stdout",
     "output_type": "stream",
     "text": [
      "[[0]\n",
      " [1]\n",
      " [2]\n",
      " [3]]\n",
      "[[0.5488135  0.71518937 0.60276338 0.54488318]]\n",
      "[[3.55536567]]\n",
      "shapes: x(4, 1), w(4, 1), w.T(1, 4), z(1, 1)\n"
     ]
    }
   ],
   "source": [
    "print(x)\n",
    "print(w.T)\n",
    "print(z)\n",
    "print('shapes: x{}, w{}, w.T{}, z{}'.format(x.shape, w.shape, w.T.shape, z.shape))"
   ]
  },
  {
   "cell_type": "code",
   "execution_count": 71,
   "metadata": {},
   "outputs": [
    {
     "name": "stdout",
     "output_type": "stream",
     "text": [
      "3.5553656675063983\n"
     ]
    }
   ],
   "source": [
    "z = np.dot(w.T, x).squeeze()\n",
    "\n",
    "print(z)"
   ]
  }
 ],
 "metadata": {
  "kernelspec": {
   "display_name": "Python 3",
   "language": "python",
   "name": "python3"
  },
  "language_info": {
   "codemirror_mode": {
    "name": "ipython",
    "version": 3
   },
   "file_extension": ".py",
   "mimetype": "text/x-python",
   "name": "python",
   "nbconvert_exporter": "python",
   "pygments_lexer": "ipython3",
   "version": "3.6.5"
  }
 },
 "nbformat": 4,
 "nbformat_minor": 2
}
